{
 "cells": [
  {
   "cell_type": "markdown",
   "id": "fb94d57f",
   "metadata": {},
   "source": [
    "# Q-1 What are keywords in python ? Using the keyword library . print all the python keywords. "
   ]
  },
  {
   "cell_type": "code",
   "execution_count": 1,
   "id": "f183b0a5",
   "metadata": {},
   "outputs": [
    {
     "name": "stdout",
     "output_type": "stream",
     "text": [
      "\n",
      "Here is a list of the Python keywords.  Enter any keyword to get more help.\n",
      "\n",
      "False               class               from                or\n",
      "None                continue            global              pass\n",
      "True                def                 if                  raise\n",
      "and                 del                 import              return\n",
      "as                  elif                in                  try\n",
      "assert              else                is                  while\n",
      "async               except              lambda              with\n",
      "await               finally             nonlocal            yield\n",
      "break               for                 not                 \n",
      "\n"
     ]
    }
   ],
   "source": [
    "# Ans - Python keywords are reserved words \n",
    "#  these keywords have specific meaning and purpose \n",
    "#  and we not used these keywords for anything \n",
    "# there are 35 keywords that are reserved keywords \n",
    "\n",
    "\n",
    "help(\"keywords\")"
   ]
  },
  {
   "cell_type": "markdown",
   "id": "2fcb1201",
   "metadata": {},
   "source": [
    "# Q-2 What are the rules to create variables in python ?"
   ]
  },
  {
   "cell_type": "code",
   "execution_count": 3,
   "id": "90fd97d8",
   "metadata": {},
   "outputs": [],
   "source": [
    "# 1 - A variable name must start with alphabetic letter \n",
    "# 2- A variable can not start with number \n",
    "# 3- In variable name we can not use any special character \n",
    "# 4 - but we can only use underscores special character "
   ]
  },
  {
   "cell_type": "markdown",
   "id": "e4215912",
   "metadata": {},
   "source": [
    "# Q-3 What are the standards and conventions followed for the nomenclature of variables in python to improve code readability and maintanability ?"
   ]
  },
  {
   "cell_type": "code",
   "execution_count": 4,
   "id": "b3ccd45d",
   "metadata": {},
   "outputs": [],
   "source": [
    "# Ans - Variable name should be start with letter and \n",
    "# Ans - Variable name always defferent from reserved keywords"
   ]
  },
  {
   "cell_type": "markdown",
   "id": "819f7d2b",
   "metadata": {},
   "source": [
    "# Q-4 What will happen if a keyword is used as a vaiable name ?\n"
   ]
  },
  {
   "cell_type": "code",
   "execution_count": 6,
   "id": "e04b671a",
   "metadata": {},
   "outputs": [],
   "source": [
    "# Ans- When we use a reserved keyword for a variable name than code will give syntex error\n",
    "# here i declered \" as \" as a variable which is reserved keyword \n",
    "as=\"hello\"\n",
    "print(as)\n",
    "# this code give a syntex error "
   ]
  },
  {
   "cell_type": "markdown",
   "id": "667969f8",
   "metadata": {},
   "source": [
    "# Q-5 For what purpose def keyword is used ?"
   ]
  },
  {
   "cell_type": "code",
   "execution_count": 7,
   "id": "aea018d4",
   "metadata": {},
   "outputs": [],
   "source": [
    "# Ans - The def keyword is used for create or define a function\n",
    "#       And we use again that funcion by call"
   ]
  },
  {
   "cell_type": "markdown",
   "id": "b6273b08",
   "metadata": {},
   "source": [
    "# Q-6 What is the operation of this special character ' \\ '?"
   ]
  },
  {
   "cell_type": "code",
   "execution_count": 8,
   "id": "d65f2bb7",
   "metadata": {},
   "outputs": [],
   "source": [
    "# Ans- this special chracter called as backslash with the help of this we can change line or new line"
   ]
  },
  {
   "cell_type": "markdown",
   "id": "27fc9dc2",
   "metadata": {},
   "source": [
    "# Q-7 Give an example of the following conditions :\n",
    "\n",
    "# (i) Homogeneous list\n",
    "# (ii) Heterogeneous set\n",
    "# (iii) Homogeneous tuple"
   ]
  },
  {
   "cell_type": "code",
   "execution_count": 10,
   "id": "ff6fa3a5",
   "metadata": {},
   "outputs": [
    {
     "name": "stdout",
     "output_type": "stream",
     "text": [
      "['Agra', 'Delhi', 'Banglore', 'mumbai']\n"
     ]
    }
   ],
   "source": [
    "# Ans - (i)\n",
    "# In homogenous list we can use only one a single type of data \n",
    "list1=[\"Agra\",\"Delhi\",\"Banglore\",\"mumbai\"]\n",
    "# in list1 we use only string type data \n",
    "print(list1)"
   ]
  },
  {
   "cell_type": "code",
   "execution_count": 11,
   "id": "f6ae83fc",
   "metadata": {},
   "outputs": [
    {
     "name": "stdout",
     "output_type": "stream",
     "text": [
      "{'agra', 1.2, 123, True}\n"
     ]
    }
   ],
   "source": [
    "# Ans (ii)\n",
    "# In Hetrogenous we can use any type numeric , string , boolean etc\n",
    "set={\"agra\",123,True,1.2}\n",
    "# we use in set string , numeric , boolean and float value\n",
    "print(set)"
   ]
  },
  {
   "cell_type": "code",
   "execution_count": 12,
   "id": "ba6adb87",
   "metadata": {},
   "outputs": [
    {
     "name": "stdout",
     "output_type": "stream",
     "text": [
      "(1, 23, 4, 56, 78)\n"
     ]
    }
   ],
   "source": [
    "# Ans (iii)\n",
    "# In homogenous tuple we can use only one type data\n",
    "tuple=(1,23,4,56,78)\n",
    "print(tuple)\n",
    "# we use in tuple only numeric value"
   ]
  },
  {
   "cell_type": "markdown",
   "id": "e35d422a",
   "metadata": {},
   "source": [
    "# Q-8 Explain the mutable and immutable data types with proper explanation and examples ."
   ]
  },
  {
   "cell_type": "code",
   "execution_count": 14,
   "id": "45e8c3d3",
   "metadata": {},
   "outputs": [
    {
     "name": "stdout",
     "output_type": "stream",
     "text": [
      "['vivek', 'kumar', 'sharma']\n",
      "['vivek', 'kumar', 'ji']\n",
      " in list change sharma into ji \n"
     ]
    }
   ],
   "source": [
    "# Ans- in python strings and tuples are immutable while lists, dictionaries and sets are mutable\n",
    "# but in tuple when we use a list inside a tuple than we can change in list items \n",
    "list=[\"vivek\",\"kumar\",\"sharma\"]\n",
    "print(list)\n",
    "list[2]=\"ji\"\n",
    "print(list)\n",
    "print(\" in list change sharma into ji \")"
   ]
  },
  {
   "cell_type": "code",
   "execution_count": 18,
   "id": "d34a476e",
   "metadata": {},
   "outputs": [
    {
     "name": "stdout",
     "output_type": "stream",
     "text": [
      "(1, 2, 'vivek', 45, 'ji')\n"
     ]
    },
    {
     "ename": "TypeError",
     "evalue": "'tuple' object does not support item assignment",
     "output_type": "error",
     "traceback": [
      "\u001b[1;31m---------------------------------------------------------------------------\u001b[0m",
      "\u001b[1;31mTypeError\u001b[0m                                 Traceback (most recent call last)",
      "Cell \u001b[1;32mIn[18], line 3\u001b[0m\n\u001b[0;32m      1\u001b[0m \u001b[38;5;28mtuple\u001b[39m\u001b[38;5;241m=\u001b[39m(\u001b[38;5;241m1\u001b[39m,\u001b[38;5;241m2\u001b[39m,\u001b[38;5;124m\"\u001b[39m\u001b[38;5;124mvivek\u001b[39m\u001b[38;5;124m\"\u001b[39m,\u001b[38;5;241m45\u001b[39m,\u001b[38;5;124m\"\u001b[39m\u001b[38;5;124mji\u001b[39m\u001b[38;5;124m\"\u001b[39m)\n\u001b[0;32m      2\u001b[0m \u001b[38;5;28mprint\u001b[39m(\u001b[38;5;28mtuple\u001b[39m)\n\u001b[1;32m----> 3\u001b[0m \u001b[38;5;28mtuple\u001b[39m[\u001b[38;5;241m4\u001b[39m]\u001b[38;5;241m=\u001b[39m\u001b[38;5;124m\"\u001b[39m\u001b[38;5;124msharma\u001b[39m\u001b[38;5;124m\"\u001b[39m\n\u001b[0;32m      4\u001b[0m \u001b[38;5;28mprint\u001b[39m(\u001b[38;5;124m\"\u001b[39m\u001b[38;5;124mIn tuple you can not change data\u001b[39m\u001b[38;5;124m\"\u001b[39m)\n\u001b[0;32m      5\u001b[0m \u001b[38;5;28mprint\u001b[39m(\u001b[38;5;28mtuple\u001b[39m)\n",
      "\u001b[1;31mTypeError\u001b[0m: 'tuple' object does not support item assignment"
     ]
    }
   ],
   "source": [
    "tuple=(1,2,\"vivek\",45,\"ji\")\n",
    "print(tuple)\n",
    "tuple[4]=\"sharma\"\n",
    "print(\"In tuple you can not change data\")\n",
    "print(tuple)\n"
   ]
  },
  {
   "cell_type": "markdown",
   "id": "c36629c0",
   "metadata": {},
   "source": [
    "# Q-9 Write a code to create the given structure using only loop.\n",
    "\n"
   ]
  },
  {
   "cell_type": "code",
   "execution_count": 29,
   "id": "c117bc36",
   "metadata": {},
   "outputs": [
    {
     "name": "stdout",
     "output_type": "stream",
     "text": [
      "       *  \n",
      "     *   *  \n",
      "   *   *   *  \n",
      " *   *   *   *  \n"
     ]
    }
   ],
   "source": [
    "n=4\n",
    "k=n\n",
    "for i in range(n):\n",
    "    k=k-1\n",
    "    print('  '*k,end='')\n",
    "    for j in range(i+1):\n",
    "        print(' *  ',end='')\n",
    "    print()"
   ]
  },
  {
   "cell_type": "markdown",
   "id": "d4141287",
   "metadata": {},
   "source": [
    "# Q-10 Write a code to create the given structure using while loop.\n"
   ]
  },
  {
   "cell_type": "code",
   "execution_count": 31,
   "id": "1d0ece78",
   "metadata": {},
   "outputs": [
    {
     "name": "stdout",
     "output_type": "stream",
     "text": [
      "        * * * * * * \n",
      "         * * * * * \n",
      "          * * * * \n",
      "           * * * \n",
      "            * * \n",
      "             * \n"
     ]
    }
   ],
   "source": [
    "rows = 5\n",
    "k = 2 * rows - 2\n",
    "for i in range(rows, -1,-1):\n",
    "    for j in range(k, 0, -1):\n",
    "        print(end=\" \")\n",
    "    k = k+1\n",
    "    for j in range(0,i+1):\n",
    "        print(\"*\",end=\" \")\n",
    "    print(\"\")"
   ]
  },
  {
   "cell_type": "code",
   "execution_count": null,
   "id": "63b6d39c",
   "metadata": {},
   "outputs": [],
   "source": []
  }
 ],
 "metadata": {
  "kernelspec": {
   "display_name": "Python 3 (ipykernel)",
   "language": "python",
   "name": "python3"
  },
  "language_info": {
   "codemirror_mode": {
    "name": "ipython",
    "version": 3
   },
   "file_extension": ".py",
   "mimetype": "text/x-python",
   "name": "python",
   "nbconvert_exporter": "python",
   "pygments_lexer": "ipython3",
   "version": "3.10.9"
  }
 },
 "nbformat": 4,
 "nbformat_minor": 5
}
