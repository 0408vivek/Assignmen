{
 "cells": [
  {
   "cell_type": "markdown",
   "id": "00deb56a",
   "metadata": {},
   "source": [
    "# Q.1. Create two int type variables, apply addition, subtraction, division and multiplications and store the results in variables. Then print the data in the following format by calling the variables:\n",
    "## First variable is __ & second variable is __.\n",
    "## Addition: __ + __ = __\n",
    "## Subtraction: __ - __ = __\n",
    "## Multiplication: __ * __ = __\n",
    "## Division: __ / __ = __"
   ]
  },
  {
   "cell_type": "code",
   "execution_count": null,
   "id": "fa777d61",
   "metadata": {},
   "outputs": [],
   "source": [
    "a=10\n",
    "b=5\n",
    "Add=a+b\n",
    "Sub=a-b\n",
    "Mul=a*b\n",
    "Div=a/b\n",
    "print(\"First variable is 10 & second variable is 5 :\")\n",
    "print(\"Addition :\",\"a\",\"+\",\"b\",\"=\",Add)\n",
    "print(\"Subtraction :\",\"a\",\"-\",\"b\",\"=\",Sub)\n",
    "print(\"Multiplication :\",\"a\",\"*\",\"b\",\"=\",Mul)\n",
    "print(\"Division :\",\"a\",\"/\",\"b\",\"=\",Div)\n",
    "    "
   ]
  },
  {
   "cell_type": "markdown",
   "id": "818c2afc",
   "metadata": {},
   "source": [
    "## Q.2. What is the difference between the following operators:\n",
    "## (i) ‘/’ & ‘//’\n",
    "## (ii) ‘**’ & ‘^’"
   ]
  },
  {
   "cell_type": "code",
   "execution_count": null,
   "id": "18d9f95f",
   "metadata": {},
   "outputs": [],
   "source": [
    "# '/' single slash carries out float division \n",
    "# '//' double slash not carries out float division \n",
    "a=13\n",
    "b=4\n",
    "print(a/b)\n",
    "print(a//b)"
   ]
  },
  {
   "cell_type": "code",
   "execution_count": null,
   "id": "1c048269",
   "metadata": {},
   "outputs": [],
   "source": [
    "# '**' is also known as power operator\n",
    "# ‘^’  This operator is used to perform Bitwise XOR on \n",
    "# the operand and then assigning result to the left operand."
   ]
  },
  {
   "cell_type": "markdown",
   "id": "932fcff0",
   "metadata": {},
   "source": [
    "# Q.3. List the logical operators."
   ]
  },
  {
   "cell_type": "code",
   "execution_count": null,
   "id": "08dd286c",
   "metadata": {},
   "outputs": [],
   "source": [
    "# and : return true if both statement are true\n",
    "# or : return true if one statement are true\n",
    "# not : this return opposite when statement true than this operator give false"
   ]
  },
  {
   "cell_type": "markdown",
   "id": "fb49e10c",
   "metadata": {},
   "source": [
    "# Q.4. Explain right shift operator and left shift operator with examples."
   ]
  },
  {
   "cell_type": "code",
   "execution_count": null,
   "id": "eb9031d3",
   "metadata": {},
   "outputs": [],
   "source": [
    "''' The right shift and left shift operator is primarily used for performing \n",
    "    bitwise operations in Python, such as extracting specific \n",
    "    bits from a binary number or efficiently packing multiple \n",
    "    values into a single binary number. It is a useful tool for \n",
    "    manipulating binary numbers in a variety of programming applications '''\n"
   ]
  },
  {
   "cell_type": "markdown",
   "id": "12ea51b6",
   "metadata": {},
   "source": [
    "# Q.5. Create a list containing int type data of length 15. Then write a code to check if 10 is present in the list or not."
   ]
  },
  {
   "cell_type": "code",
   "execution_count": 1,
   "id": "2b6b6bb6",
   "metadata": {},
   "outputs": [
    {
     "name": "stdout",
     "output_type": "stream",
     "text": [
      "10 is present in list\n"
     ]
    }
   ],
   "source": [
    "list=[1,2,3,4,5,6,7,8,9,10,11,12,13,14,15]\n",
    "for i in list:\n",
    "    if i ==10:\n",
    "        print(\"10 is present in list\")"
   ]
  },
  {
   "cell_type": "code",
   "execution_count": null,
   "id": "ed1fd2b6",
   "metadata": {},
   "outputs": [],
   "source": []
  }
 ],
 "metadata": {
  "kernelspec": {
   "display_name": "Python 3 (ipykernel)",
   "language": "python",
   "name": "python3"
  },
  "language_info": {
   "codemirror_mode": {
    "name": "ipython",
    "version": 3
   },
   "file_extension": ".py",
   "mimetype": "text/x-python",
   "name": "python",
   "nbconvert_exporter": "python",
   "pygments_lexer": "ipython3",
   "version": "3.10.9"
  }
 },
 "nbformat": 4,
 "nbformat_minor": 5
}
