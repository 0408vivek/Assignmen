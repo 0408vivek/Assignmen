{
 "cells": [
  {
   "cell_type": "markdown",
   "id": "15f30134",
   "metadata": {},
   "source": [
    "Q-1 What exactly is [ ]\n",
    "\n",
    "Ans-   [ ] this is a empty list ."
   ]
  },
  {
   "cell_type": "markdown",
   "id": "b7c2afb0",
   "metadata": {},
   "source": [
    "Q-2 In a list of values stored in a variable called spam , how would you assign the value \"hello\" as the third value ? ( Assume [2,4,6,8,10] are in spam)\n",
    "\n"
   ]
  },
  {
   "cell_type": "code",
   "execution_count": 1,
   "id": "3f2f25cb",
   "metadata": {},
   "outputs": [
    {
     "name": "stdout",
     "output_type": "stream",
     "text": [
      "[2, 4, 'hello', 8, 10]\n"
     ]
    }
   ],
   "source": [
    "# ans-\n",
    "spam=[2,4,6,8,10]\n",
    "spam[2]='hello'\n",
    "print(spam)"
   ]
  },
  {
   "cell_type": "markdown",
   "id": "5525f634",
   "metadata": {},
   "source": [
    "let's pretend the spam includes the list['a','b','c','d'] for the next three queries ."
   ]
  },
  {
   "cell_type": "markdown",
   "id": "f8e77e05",
   "metadata": {},
   "source": [
    "Q-3 what is value of spam[int(int('3'*2)/11)]?"
   ]
  },
  {
   "cell_type": "code",
   "execution_count": 3,
   "id": "85f1cbcb",
   "metadata": {},
   "outputs": [
    {
     "data": {
      "text/plain": [
       "'d'"
      ]
     },
     "execution_count": 3,
     "metadata": {},
     "output_type": "execute_result"
    }
   ],
   "source": [
    "spam=['a','b','c','d']\n",
    "spam[int(int('3'*2)/11)]"
   ]
  },
  {
   "cell_type": "code",
   "execution_count": 4,
   "id": "0048de0c",
   "metadata": {},
   "outputs": [
    {
     "data": {
      "text/plain": [
       "['a', 'b', 'c', 'd']"
      ]
     },
     "execution_count": 4,
     "metadata": {},
     "output_type": "execute_result"
    }
   ],
   "source": [
    "spam"
   ]
  },
  {
   "cell_type": "markdown",
   "id": "ae841201",
   "metadata": {},
   "source": [
    "Q-4 what is the value of spam[-1]"
   ]
  },
  {
   "cell_type": "code",
   "execution_count": 5,
   "id": "c1bc8934",
   "metadata": {},
   "outputs": [
    {
     "data": {
      "text/plain": [
       "'d'"
      ]
     },
     "execution_count": 5,
     "metadata": {},
     "output_type": "execute_result"
    }
   ],
   "source": [
    "spam[-1]"
   ]
  },
  {
   "cell_type": "markdown",
   "id": "8ae4e4a4",
   "metadata": {},
   "source": [
    "Q-5 what is the value of spam[:2]"
   ]
  },
  {
   "cell_type": "code",
   "execution_count": 7,
   "id": "e86feaae",
   "metadata": {},
   "outputs": [
    {
     "data": {
      "text/plain": [
       "['a', 'b']"
      ]
     },
     "execution_count": 7,
     "metadata": {},
     "output_type": "execute_result"
    }
   ],
   "source": [
    "spam[:2]"
   ]
  },
  {
   "cell_type": "markdown",
   "id": "fea0935e",
   "metadata": {},
   "source": [
    "let's pretend bacon has the list[3.14,'cat','11',True] for the next three questions\n"
   ]
  },
  {
   "cell_type": "markdown",
   "id": "8ea88d9d",
   "metadata": {},
   "source": [
    "Q-6 what is the value of bacon.index('cat')?\n"
   ]
  },
  {
   "cell_type": "code",
   "execution_count": 8,
   "id": "f79fc5aa",
   "metadata": {},
   "outputs": [],
   "source": [
    "bacon=[3.14,'cat','11','cat',True]"
   ]
  },
  {
   "cell_type": "code",
   "execution_count": 9,
   "id": "5cea1636",
   "metadata": {},
   "outputs": [
    {
     "data": {
      "text/plain": [
       "1"
      ]
     },
     "execution_count": 9,
     "metadata": {},
     "output_type": "execute_result"
    }
   ],
   "source": [
    "bacon.index('cat')"
   ]
  },
  {
   "cell_type": "markdown",
   "id": "2757d7f1",
   "metadata": {},
   "source": [
    "Q-7 how does bacon.append(99)change the look of the list value in bacon?"
   ]
  },
  {
   "cell_type": "code",
   "execution_count": 11,
   "id": "3899df8e",
   "metadata": {},
   "outputs": [],
   "source": [
    "bacon.append(99)"
   ]
  },
  {
   "cell_type": "code",
   "execution_count": 12,
   "id": "cd3cda7e",
   "metadata": {},
   "outputs": [
    {
     "data": {
      "text/plain": [
       "[3.14, 'cat', '11', 'cat', True, 99]"
      ]
     },
     "execution_count": 12,
     "metadata": {},
     "output_type": "execute_result"
    }
   ],
   "source": [
    "bacon"
   ]
  },
  {
   "cell_type": "markdown",
   "id": "19ba9f0a",
   "metadata": {},
   "source": [
    "Q-8 how does bacon.remove('cat') change the look of the list in bacon ?"
   ]
  },
  {
   "cell_type": "code",
   "execution_count": 13,
   "id": "4c1716da",
   "metadata": {},
   "outputs": [],
   "source": [
    "bacon.remove('cat')"
   ]
  },
  {
   "cell_type": "code",
   "execution_count": 14,
   "id": "115b1f38",
   "metadata": {},
   "outputs": [
    {
     "data": {
      "text/plain": [
       "[3.14, '11', 'cat', True, 99]"
      ]
     },
     "execution_count": 14,
     "metadata": {},
     "output_type": "execute_result"
    }
   ],
   "source": [
    "bacon"
   ]
  },
  {
   "cell_type": "markdown",
   "id": "aa53a73d",
   "metadata": {},
   "source": [
    "Q-9 What are the list concatenation and list replication operators ?"
   ]
  },
  {
   "cell_type": "code",
   "execution_count": 15,
   "id": "7f4fe1ed",
   "metadata": {},
   "outputs": [
    {
     "name": "stdout",
     "output_type": "stream",
     "text": [
      "[1, 2, 3, 4, 5, 6, 7, 8]\n"
     ]
    }
   ],
   "source": [
    "list1=[1,2,3,4]\n",
    "list2=[5,6,7,8]\n",
    "list3=list1+list2\n",
    "print(list3)"
   ]
  },
  {
   "cell_type": "markdown",
   "id": "383a27a3",
   "metadata": {},
   "source": [
    "Q-10 What is difference between the list methods append() and inset()?"
   ]
  },
  {
   "cell_type": "code",
   "execution_count": 20,
   "id": "bf432d43",
   "metadata": {},
   "outputs": [
    {
     "name": "stdout",
     "output_type": "stream",
     "text": [
      "[1, 2, 3, 4, 'hello']\n"
     ]
    }
   ],
   "source": [
    "# in insert we can add items easily at any index \n",
    "list1=[1,2,3,4]\n",
    "list1.insert(4,\"hello\")\n",
    "print(list1)"
   ]
  },
  {
   "cell_type": "code",
   "execution_count": null,
   "id": "2bfd3dd1",
   "metadata": {},
   "outputs": [],
   "source": [
    "# but in append we can at the last index autometic"
   ]
  },
  {
   "cell_type": "markdown",
   "id": "cbe8b3b5",
   "metadata": {},
   "source": [
    "Q-11 What are the two methods for removing items from a list?"
   ]
  },
  {
   "cell_type": "code",
   "execution_count": 30,
   "id": "893af66c",
   "metadata": {},
   "outputs": [
    {
     "name": "stdout",
     "output_type": "stream",
     "text": [
      "[1, 2, 4, 5]\n"
     ]
    },
    {
     "data": {
      "text/plain": [
       "4"
      ]
     },
     "execution_count": 30,
     "metadata": {},
     "output_type": "execute_result"
    }
   ],
   "source": [
    "## we can remove items from list with two methdods\n",
    "# remove , pop \n",
    "# in pop autometicaly last index item remove\n",
    "\n",
    "list1=[1,2,3,4,5]\n",
    "list1.remove(3)\n",
    "print(list1)\n",
    "list2=[1,2,3,4]\n",
    "list2.pop()"
   ]
  },
  {
   "cell_type": "markdown",
   "id": "09cd68fe",
   "metadata": {},
   "source": [
    "Q-12 Describe how list values and string values are identical"
   ]
  },
  {
   "cell_type": "code",
   "execution_count": 31,
   "id": "af3c0205",
   "metadata": {},
   "outputs": [],
   "source": [
    "# list values are diffrent from string values \n",
    "# list values mutable and string values immutable\n",
    "# list values store in [ ] \n",
    "# string values store in \" \""
   ]
  },
  {
   "cell_type": "markdown",
   "id": "6d3b3a45",
   "metadata": {},
   "source": [
    "Q-13 What's the difference between tuples and lists?\n"
   ]
  },
  {
   "cell_type": "code",
   "execution_count": 32,
   "id": "538dc32e",
   "metadata": {},
   "outputs": [],
   "source": [
    "# tuples are immuatable \n",
    "# list are mutable"
   ]
  },
  {
   "cell_type": "markdown",
   "id": "fbee4770",
   "metadata": {},
   "source": [
    "Q-14 How do you type a tuple value that only contains the integer 42?"
   ]
  },
  {
   "cell_type": "code",
   "execution_count": 34,
   "id": "4d77f9fe",
   "metadata": {},
   "outputs": [
    {
     "name": "stdout",
     "output_type": "stream",
     "text": [
      "<class 'int'>\n",
      "<class 'tuple'>\n"
     ]
    }
   ],
   "source": [
    "tup1=(42)\n",
    "print(type(tup1))\n",
    "tup2=(42,)\n",
    "print(type(tup2))"
   ]
  },
  {
   "cell_type": "markdown",
   "id": "93daf141",
   "metadata": {},
   "source": [
    "Q-15 How do you get a list values tuple form ? How do you get a tuple values list form"
   ]
  },
  {
   "cell_type": "code",
   "execution_count": 1,
   "id": "c45615b3",
   "metadata": {},
   "outputs": [
    {
     "name": "stdout",
     "output_type": "stream",
     "text": [
      "(1, 2, 3, 4)\n",
      "<class 'tuple'>\n"
     ]
    }
   ],
   "source": [
    "list=[1,2,3,4]\n",
    "tuple=tuple(list)\n",
    "print(tuple)\n",
    "print(type(tuple))"
   ]
  },
  {
   "cell_type": "code",
   "execution_count": 1,
   "id": "fba44e4e",
   "metadata": {},
   "outputs": [
    {
     "name": "stdout",
     "output_type": "stream",
     "text": [
      "[1, 2, 3, 4]\n",
      "<class 'list'>\n"
     ]
    }
   ],
   "source": [
    "tuple=(1,2,3,4)\n",
    "list=list(tuple)\n",
    "print(list)\n",
    "print(type(list))"
   ]
  },
  {
   "cell_type": "markdown",
   "id": "9c682ef9",
   "metadata": {},
   "source": [
    "Q-16 Variables that \"contain\" list values are not necessarily lists themselves . Instead , what do they contain ?"
   ]
  },
  {
   "cell_type": "code",
   "execution_count": 2,
   "id": "9882e14d",
   "metadata": {},
   "outputs": [],
   "source": [
    "# list "
   ]
  },
  {
   "cell_type": "code",
   "execution_count": null,
   "id": "48ead37e",
   "metadata": {},
   "outputs": [],
   "source": []
  }
 ],
 "metadata": {
  "kernelspec": {
   "display_name": "Python 3 (ipykernel)",
   "language": "python",
   "name": "python3"
  },
  "language_info": {
   "codemirror_mode": {
    "name": "ipython",
    "version": 3
   },
   "file_extension": ".py",
   "mimetype": "text/x-python",
   "name": "python",
   "nbconvert_exporter": "python",
   "pygments_lexer": "ipython3",
   "version": "3.10.9"
  }
 },
 "nbformat": 4,
 "nbformat_minor": 5
}
