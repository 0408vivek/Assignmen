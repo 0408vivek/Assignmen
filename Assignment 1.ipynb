{
 "cells": [
  {
   "cell_type": "markdown",
   "id": "f97ed7f9",
   "metadata": {},
   "source": [
    "# Assignment 1"
   ]
  },
  {
   "cell_type": "markdown",
   "id": "f11421d2",
   "metadata": {},
   "source": [
    "Q1-In the below elements which of them are values or an expression ? \n",
    "    eg-values can be integer or string and expressions will be mathematical operators."
   ]
  },
  {
   "cell_type": "code",
   "execution_count": 1,
   "id": "2282a35b",
   "metadata": {},
   "outputs": [],
   "source": [
    "# * is a mathematical operators\n",
    "# 'hello' is a string\n",
    "# -87.8 is a float value\n",
    "# - is a mathematical operators\n",
    "# / is a mathematical operators \n",
    "# + is a mathematcial operators\n",
    "# 6 is a intiger value\n"
   ]
  },
  {
   "cell_type": "markdown",
   "id": "9268c20f",
   "metadata": {},
   "source": [
    "q2- What is the difference between string and vaiable?"
   ]
  },
  {
   "cell_type": "code",
   "execution_count": 2,
   "id": "853889d9",
   "metadata": {},
   "outputs": [],
   "source": [
    "# a=\"hello\"\n",
    "# here a is a variable and \"hello\" is a string \n"
   ]
  },
  {
   "cell_type": "markdown",
   "id": "84e80aa6",
   "metadata": {},
   "source": [
    "Q3- Describe three different data types."
   ]
  },
  {
   "cell_type": "code",
   "execution_count": 3,
   "id": "97629ecf",
   "metadata": {},
   "outputs": [],
   "source": [
    "# there are 6 data types in python \n",
    "# string , tuple , dictonary."
   ]
  },
  {
   "cell_type": "markdown",
   "id": "db3e12f2",
   "metadata": {},
   "source": [
    "Q4-What is an expression made up of?What do all expressions do?"
   ]
  },
  {
   "cell_type": "code",
   "execution_count": 4,
   "id": "461d2d6a",
   "metadata": {},
   "outputs": [],
   "source": [
    "# Expression made up of values , variables , operators\n",
    "# a=10 ( here a is a variable and = is a operators and 10 is value)\n",
    "# expression give result "
   ]
  },
  {
   "cell_type": "code",
   "execution_count": 5,
   "id": "6f377c04",
   "metadata": {},
   "outputs": [
    {
     "data": {
      "text/plain": [
       "23"
      ]
     },
     "execution_count": 5,
     "metadata": {},
     "output_type": "execute_result"
    }
   ],
   "source": [
    "Q5-After running the following code, what does the variable bacon contain?\n",
    "\n",
    "bacon=22\n",
    "bacon+1\n",
    "\n"
   ]
  },
  {
   "cell_type": "markdown",
   "id": "85c08cd5",
   "metadata": {},
   "source": [
    "Q6- What should the values of the following two terms be?\n",
    "    \n",
    "     "
   ]
  },
  {
   "cell_type": "code",
   "execution_count": 17,
   "id": "14d47d09",
   "metadata": {},
   "outputs": [
    {
     "data": {
      "text/plain": [
       "'spamspamspam'"
      ]
     },
     "execution_count": 17,
     "metadata": {},
     "output_type": "execute_result"
    }
   ],
   "source": [
    "\"spam\"+\"spamspam\""
   ]
  },
  {
   "cell_type": "code",
   "execution_count": 18,
   "id": "a1870473",
   "metadata": {},
   "outputs": [
    {
     "ename": "NameError",
     "evalue": "name 'spam' is not defined",
     "output_type": "error",
     "traceback": [
      "\u001b[1;31m---------------------------------------------------------------------------\u001b[0m",
      "\u001b[1;31mNameError\u001b[0m                                 Traceback (most recent call last)",
      "Cell \u001b[1;32mIn[18], line 1\u001b[0m\n\u001b[1;32m----> 1\u001b[0m \u001b[43mspam\u001b[49m\u001b[38;5;241m*\u001b[39m\u001b[38;5;241m3\u001b[39m\n",
      "\u001b[1;31mNameError\u001b[0m: name 'spam' is not defined"
     ]
    }
   ],
   "source": [
    "  spam*3 "
   ]
  },
  {
   "cell_type": "markdown",
   "id": "33548676",
   "metadata": {},
   "source": [
    "Q7-Why is eggs a valid variable name while 100 is invalid?"
   ]
  },
  {
   "cell_type": "code",
   "execution_count": 19,
   "id": "11971fd0",
   "metadata": {},
   "outputs": [],
   "source": [
    "#variable name always start with alphabets and _(underscore)\n",
    "# variablename can not be start with numeric number so eggs a valid variable name while 100 is invalid"
   ]
  },
  {
   "cell_type": "markdown",
   "id": "1a578035",
   "metadata": {},
   "source": [
    "Q8-What three functions can be used to get the integer,foating-point number,or string version of a value?"
   ]
  },
  {
   "cell_type": "code",
   "execution_count": 20,
   "id": "aad8ede6",
   "metadata": {},
   "outputs": [],
   "source": [
    "# int() is use for integer \n",
    "# float is use for floating point\n",
    "# str() is use for string \n"
   ]
  },
  {
   "cell_type": "markdown",
   "id": "0e69fc96",
   "metadata": {},
   "source": [
    "Q9-Why does this expression cause an error?How can you fix it?\"i have eaten\"+99+\"burraits\""
   ]
  },
  {
   "cell_type": "code",
   "execution_count": 22,
   "id": "6da3b961",
   "metadata": {},
   "outputs": [
    {
     "data": {
      "text/plain": [
       "'i have eaten99burraits'"
      ]
     },
     "execution_count": 22,
     "metadata": {},
     "output_type": "execute_result"
    }
   ],
   "source": [
    "#in python we can concinate same data types so this expression give an error\n",
    "\"i have eaten\"+\"99\"+\"burraits\"\n",
    "# when we convert value 99 into string than it fix\n"
   ]
  },
  {
   "cell_type": "code",
   "execution_count": null,
   "id": "0491e58c",
   "metadata": {},
   "outputs": [],
   "source": []
  }
 ],
 "metadata": {
  "kernelspec": {
   "display_name": "Python 3 (ipykernel)",
   "language": "python",
   "name": "python3"
  },
  "language_info": {
   "codemirror_mode": {
    "name": "ipython",
    "version": 3
   },
   "file_extension": ".py",
   "mimetype": "text/x-python",
   "name": "python",
   "nbconvert_exporter": "python",
   "pygments_lexer": "ipython3",
   "version": "3.10.9"
  }
 },
 "nbformat": 4,
 "nbformat_minor": 5
}
